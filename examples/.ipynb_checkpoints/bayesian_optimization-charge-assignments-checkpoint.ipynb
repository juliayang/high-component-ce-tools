{
 "cells": [
  {
   "cell_type": "markdown",
   "id": "ae63810a",
   "metadata": {},
   "source": [
    "# Assign charges to DFT data"
   ]
  },
  {
   "cell_type": "code",
   "execution_count": 2,
   "id": "b8bde635",
   "metadata": {},
   "outputs": [],
   "source": [
    "import json\n",
    "from tools import BayesianChargeAssigner\n",
    "from tools import DFTProcessor"
   ]
  },
  {
   "cell_type": "markdown",
   "id": "aefeb3c7",
   "metadata": {},
   "source": [
    "## Step 0. Use DFTProcessor to iterate through directories of DFT data with OUTCAR files"
   ]
  },
  {
   "cell_type": "code",
   "execution_count": null,
   "id": "badb82c3",
   "metadata": {},
   "outputs": [],
   "source": [
    "# pre-processing step to save the magnetizations\n",
    "directory = '/.'\n",
    "metal = 'Mn'\n",
    "orbital = 'd'\n",
    "\n",
    "# uncomment lines below \n",
    "\n",
    "#data = DFTProcessor(directory).load_dft_runs()\n",
    "\n",
    "#with open('converged_structures.json','w') as f: \n",
    "#    json.dump(data, f)"
   ]
  },
  {
   "cell_type": "code",
   "execution_count": 3,
   "id": "c0ba1f15",
   "metadata": {},
   "outputs": [],
   "source": [
    "# load the DFT data\n",
    "\n",
    "with open('../data/converged_structures.json','r') as f: \n",
    "    dft_data = json.load(f)"
   ]
  },
  {
   "cell_type": "markdown",
   "id": "8b022680",
   "metadata": {},
   "source": [
    "## Step 1. Using DFT structures, containing all converged structures, energies, and orbital magnetic moments, initialize the BayesianChargeAssigner"
   ]
  },
  {
   "cell_type": "code",
   "execution_count": 4,
   "id": "531c3920",
   "metadata": {},
   "outputs": [],
   "source": [
    "from pymatgen.core.structure import Species\n",
    "\n",
    "# add in default charges for known species, e.g. Li+, O2-, F-\n",
    "known_species = [Species('Li', 1), Species('O', -2), Species('F', -1)]\n",
    "\n",
    "# specify the desired oxidation states, ordered by corresponding domain of magnetization \n",
    "unknown_species = [Species('Mn', 4), Species('Mn', 3), Species('Mn', 2)]\n",
    "\n",
    "# rough estimate of the magnetization range to initialize optimization\n",
    "mag_range = (0, 6)\n",
    "\n",
    "# lastly, need to specify a loose domain for finding the upper cutoff\n",
    "domain = [(2.5, 3.3), (3.7, 4.3), (4.5, 5.0)]\n",
    "\n",
    "#initialize \n",
    "bca = BayesianChargeAssigner(known_species = known_species, \n",
    "                            unknown_species = unknown_species,\n",
    "                            mag_range = mag_range, \n",
    "                            domain = domain)\n",
    "\n"
   ]
  },
  {
   "cell_type": "code",
   "execution_count": 5,
   "id": "dc867a05",
   "metadata": {},
   "outputs": [
    {
     "name": "stderr",
     "output_type": "stream",
     "text": [
      "/Users/jhyang/miniconda3/lib/python3.8/site-packages/pymatgen/core/structure.py:467: UserWarning: Some species to be substituted are not present in structure. Pls check your input. Species to be substituted = {Element O, Element F, Element Li}; Species in structure = {Element O, Element Mn, Element Li}\n",
      "  warnings.warn(\n",
      "/Users/jhyang/miniconda3/lib/python3.8/site-packages/pymatgen/core/structure.py:467: UserWarning: Some species to be substituted are not present in structure. Pls check your input. Species to be substituted = {Element O, Element F, Element Li}; Species in structure = {Element F, Element Li}\n",
      "  warnings.warn(\n",
      "/Users/jhyang/miniconda3/lib/python3.8/site-packages/pymatgen/core/structure.py:467: UserWarning: Some species to be substituted are not present in structure. Pls check your input. Species to be substituted = {Element O, Element F, Element Li}; Species in structure = {Element O, Element Mn}\n",
      "  warnings.warn(\n",
      "/Users/jhyang/miniconda3/lib/python3.8/site-packages/pymatgen/core/structure.py:467: UserWarning: Some species to be substituted are not present in structure. Pls check your input. Species to be substituted = {Element O, Element F, Element Li}; Species in structure = {Element O, Element Li}\n",
      "  warnings.warn(\n",
      "/Users/jhyang/miniconda3/lib/python3.8/site-packages/pymatgen/core/structure.py:467: UserWarning: Some species to be substituted are not present in structure. Pls check your input. Species to be substituted = {Element O, Element F, Element Li}; Species in structure = {Element O, Element Mn, Element F}\n",
      "  warnings.warn(\n",
      "/Users/jhyang/miniconda3/lib/python3.8/site-packages/pymatgen/core/structure.py:467: UserWarning: Some species to be substituted are not present in structure. Pls check your input. Species to be substituted = {Element O, Element F, Element Li}; Species in structure = {Element Mn, Element F}\n",
      "  warnings.warn(\n"
     ]
    }
   ],
   "source": [
    "# process charges automatically, there will be warnings if some species don't exist in a structure \n",
    "dft_data_with_charges = bca.assign_charges(dft_data)"
   ]
  },
  {
   "cell_type": "markdown",
   "id": "446b5111",
   "metadata": {},
   "source": [
    "## Step 2. Save the charge-assigned data"
   ]
  },
  {
   "cell_type": "code",
   "execution_count": 7,
   "id": "d7f4d1af",
   "metadata": {},
   "outputs": [],
   "source": [
    "with open('converged_structures_charge_balanced.json','w') as f:\n",
    "    json.dump(dft_data_with_charges, f)"
   ]
  }
 ],
 "metadata": {
  "kernelspec": {
   "display_name": "Python 3",
   "language": "python",
   "name": "python3"
  },
  "language_info": {
   "codemirror_mode": {
    "name": "ipython",
    "version": 3
   },
   "file_extension": ".py",
   "mimetype": "text/x-python",
   "name": "python",
   "nbconvert_exporter": "python",
   "pygments_lexer": "ipython3",
   "version": "3.8.8"
  }
 },
 "nbformat": 4,
 "nbformat_minor": 5
}
