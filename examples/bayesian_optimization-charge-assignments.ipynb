{
 "cells": [
  {
   "cell_type": "markdown",
   "id": "019cfa89",
   "metadata": {},
   "source": [
    "# Assign charges to DFT data"
   ]
  },
  {
   "cell_type": "code",
   "execution_count": 1,
   "id": "2459b88b",
   "metadata": {},
   "outputs": [],
   "source": [
    "import json\n",
    "from smol.cofe.tools import BayesianChargeAssigner\n",
    "from smol.cofe.tools import DFTProcessor"
   ]
  },
  {
   "cell_type": "code",
   "execution_count": null,
   "id": "ed4a67e2",
   "metadata": {},
   "outputs": [],
   "source": [
    "# pre-processing step to save the magnetizations\n",
    "directory = '/.'\n",
    "metal = 'Mn'\n",
    "orbital = 'd'\n",
    "\n",
    "# uncomment lines below \n",
    "\n",
    "#data = DFTProcessor(directory).load_dft_runs()\n",
    "\n",
    "#with open('converged_structures.json','w') as f: \n",
    "#    json.dump(data, f)"
   ]
  },
  {
   "cell_type": "code",
   "execution_count": 2,
   "id": "d8451eda",
   "metadata": {},
   "outputs": [
    {
     "ename": "FileNotFoundError",
     "evalue": "[Errno 2] No such file or directory: 'data/converged_structures.json'",
     "output_type": "error",
     "traceback": [
      "\u001b[0;31m---------------------------------------------------------------------------\u001b[0m",
      "\u001b[0;31mFileNotFoundError\u001b[0m                         Traceback (most recent call last)",
      "\u001b[0;32m<ipython-input-2-eb0a2fb026e7>\u001b[0m in \u001b[0;36m<module>\u001b[0;34m\u001b[0m\n\u001b[1;32m      1\u001b[0m \u001b[0;31m# load the DFT data\u001b[0m\u001b[0;34m\u001b[0m\u001b[0;34m\u001b[0m\u001b[0;34m\u001b[0m\u001b[0m\n\u001b[0;32m----> 2\u001b[0;31m \u001b[0;32mwith\u001b[0m \u001b[0mopen\u001b[0m\u001b[0;34m(\u001b[0m\u001b[0;34m'data/converged_structures.json'\u001b[0m\u001b[0;34m,\u001b[0m\u001b[0;34m'r'\u001b[0m\u001b[0;34m)\u001b[0m \u001b[0;32mas\u001b[0m \u001b[0mf\u001b[0m\u001b[0;34m:\u001b[0m\u001b[0;34m\u001b[0m\u001b[0;34m\u001b[0m\u001b[0m\n\u001b[0m\u001b[1;32m      3\u001b[0m     \u001b[0mdft_data\u001b[0m \u001b[0;34m=\u001b[0m \u001b[0mjson\u001b[0m\u001b[0;34m.\u001b[0m\u001b[0mload\u001b[0m\u001b[0;34m(\u001b[0m\u001b[0mf\u001b[0m\u001b[0;34m)\u001b[0m\u001b[0;34m\u001b[0m\u001b[0;34m\u001b[0m\u001b[0m\n",
      "\u001b[0;31mFileNotFoundError\u001b[0m: [Errno 2] No such file or directory: 'data/converged_structures.json'"
     ]
    }
   ],
   "source": [
    "# load the DFT data\n",
    "with open('data/converged_structures.json','r') as f: \n",
    "    dft_data = json.load(f)"
   ]
  },
  {
   "cell_type": "code",
   "execution_count": 3,
   "id": "acd01175",
   "metadata": {},
   "outputs": [],
   "source": [
    "from pymatgen.core.structure import Species\n",
    "\n",
    "# add in default charges for known species, e.g. Li+, O2-, F-\n",
    "known_species = [Species('Li', 1), Species('O', -2), Species('F', -1)]\n",
    "\n",
    "# specify the desired oxidation states, ordered by corresponding domain of magnetization \n",
    "unknown_species = [Species('Mn', 4), Species('Mn', 3), Species('Mn', 2)]\n",
    "\n",
    "# rough estimate of the magnetization range to initialize optimization\n",
    "mag_range = (0, 6)\n",
    "\n",
    "# lastly, need to specify a loose domain for finding the upper cutoff\n",
    "domain = [(2.5, 3.3), (3.7, 4.3), (4.5, 5.0)]\n",
    "\n",
    "#initialize \n",
    "bca = BayesianChargeAssigner(known_species = known_species, \n",
    "                            unknown_species = unknown_species,\n",
    "                            mag_range = mag_range, \n",
    "                            domain = domain)\n",
    "\n"
   ]
  },
  {
   "cell_type": "code",
   "execution_count": 4,
   "id": "0386362e",
   "metadata": {},
   "outputs": [
    {
     "name": "stderr",
     "output_type": "stream",
     "text": [
      "/Users/jhyang/miniconda3/envs/spinel/lib/python3.8/site-packages/pymatgen/core/structure.py:484: UserWarning: Some species to be substituted are not present in structure. Pls check your input. Species to be substituted = {Element O, Element F, Element Li}; Species in structure = {Element O, Element Mn, Element Li}\n",
      "  warnings.warn(\n",
      "/Users/jhyang/miniconda3/envs/spinel/lib/python3.8/site-packages/pymatgen/core/structure.py:484: UserWarning: Some species to be substituted are not present in structure. Pls check your input. Species to be substituted = {Element O, Element F, Element Li}; Species in structure = {Element F, Element Li}\n",
      "  warnings.warn(\n",
      "/Users/jhyang/miniconda3/envs/spinel/lib/python3.8/site-packages/pymatgen/core/structure.py:484: UserWarning: Some species to be substituted are not present in structure. Pls check your input. Species to be substituted = {Element O, Element F, Element Li}; Species in structure = {Element O, Element Mn}\n",
      "  warnings.warn(\n",
      "/Users/jhyang/miniconda3/envs/spinel/lib/python3.8/site-packages/pymatgen/core/structure.py:484: UserWarning: Some species to be substituted are not present in structure. Pls check your input. Species to be substituted = {Element O, Element F, Element Li}; Species in structure = {Element O, Element Li}\n",
      "  warnings.warn(\n",
      "/Users/jhyang/miniconda3/envs/spinel/lib/python3.8/site-packages/pymatgen/core/structure.py:484: UserWarning: Some species to be substituted are not present in structure. Pls check your input. Species to be substituted = {Element O, Element F, Element Li}; Species in structure = {Element O, Element Mn, Element F}\n",
      "  warnings.warn(\n",
      "/Users/jhyang/miniconda3/envs/spinel/lib/python3.8/site-packages/pymatgen/core/structure.py:484: UserWarning: Some species to be substituted are not present in structure. Pls check your input. Species to be substituted = {Element O, Element F, Element Li}; Species in structure = {Element Mn, Element F}\n",
      "  warnings.warn(\n"
     ]
    }
   ],
   "source": [
    "# process charges automatically, there will be warnings if some species don't exit in a structure \n",
    "dft_data_with_charges = bca.assign_charges(dft_data)\n"
   ]
  },
  {
   "cell_type": "code",
   "execution_count": 7,
   "id": "b487cfb6",
   "metadata": {},
   "outputs": [],
   "source": [
    "with open('converged_structures_charge_balanced.json','w') as f:\n",
    "    json.dump(dft_data_with_charges, f)"
   ]
  }
 ],
 "metadata": {
  "kernelspec": {
   "display_name": "Python 3",
   "language": "python",
   "name": "python3"
  },
  "language_info": {
   "codemirror_mode": {
    "name": "ipython",
    "version": 3
   },
   "file_extension": ".py",
   "mimetype": "text/x-python",
   "name": "python",
   "nbconvert_exporter": "python",
   "pygments_lexer": "ipython3",
   "version": "3.8.8"
  }
 },
 "nbformat": 4,
 "nbformat_minor": 5
}
